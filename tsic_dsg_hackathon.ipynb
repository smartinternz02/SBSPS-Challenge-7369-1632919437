{
  "nbformat": 4,
  "nbformat_minor": 0,
  "metadata": {
    "colab": {
      "name": "tsic dsg hackathon.ipynb",
      "provenance": []
    },
    "kernelspec": {
      "name": "python3",
      "display_name": "Python 3"
    },
    "language_info": {
      "name": "python"
    }
  },
  "cells": [
    {
      "cell_type": "code",
      "metadata": {
        "id": "AxtXKl5ICxM4"
      },
      "source": [
        "import matplotlib.pyplot as plt\n",
        "import seaborn as sns\n",
        "import datetime\n",
        "from sklearn.preprocessing import LabelEncoder\n",
        "from sklearn import preprocessing\n",
        "from sklearn.preprocessing import StandardScaler\n",
        "from sklearn.model_selection import train_test_split\n",
        "import seaborn as sns\n",
        "from keras.layers import Dense, BatchNormalization, Dropout, LSTM\n",
        "from keras.models import Sequential\n",
        "from tensorflow.keras.utils import to_categorical\n",
        "from tensorflow.keras.optimizers import Adam\n",
        "from tensorflow.keras import regularizers\n",
        "from sklearn.metrics import precision_score, recall_score, confusion_matrix, classification_report, accuracy_score, f1_score\n",
        "from keras import callbacks\n",
        "import pandas as pd\n",
        "import numpy as np"
      ],
      "execution_count": 1,
      "outputs": []
    },
    {
      "cell_type": "code",
      "metadata": {
        "colab": {
          "base_uri": "https://localhost:8080/",
          "height": 360
        },
        "id": "aAtiH-CsDWXx",
        "outputId": "9330aeee-549b-478e-c119-57402dd439a9"
      },
      "source": [
        "data = pd.read_excel(\"/content/final_dataset.xlsx\")\n",
        "data.head()"
      ],
      "execution_count": 4,
      "outputs": [
        {
          "output_type": "execute_result",
          "data": {
            "text/html": [
              "<div>\n",
              "<style scoped>\n",
              "    .dataframe tbody tr th:only-of-type {\n",
              "        vertical-align: middle;\n",
              "    }\n",
              "\n",
              "    .dataframe tbody tr th {\n",
              "        vertical-align: top;\n",
              "    }\n",
              "\n",
              "    .dataframe thead th {\n",
              "        text-align: right;\n",
              "    }\n",
              "</style>\n",
              "<table border=\"1\" class=\"dataframe\">\n",
              "  <thead>\n",
              "    <tr style=\"text-align: right;\">\n",
              "      <th></th>\n",
              "      <th>District</th>\n",
              "      <th>Mandal</th>\n",
              "      <th>Date</th>\n",
              "      <th>Rain (mm)</th>\n",
              "      <th>Min Temp (°C)</th>\n",
              "      <th>Max Temp (°C)</th>\n",
              "      <th>Min Humidity (%)</th>\n",
              "      <th>Max Humidity (%)</th>\n",
              "      <th>Min Wind Speed (Kmph)</th>\n",
              "      <th>Max Wind Speed (Kmph)</th>\n",
              "    </tr>\n",
              "  </thead>\n",
              "  <tbody>\n",
              "    <tr>\n",
              "      <th>0</th>\n",
              "      <td>Adilabad</td>\n",
              "      <td>Bheempoor</td>\n",
              "      <td>2021-01-01</td>\n",
              "      <td>0.0</td>\n",
              "      <td>10.1</td>\n",
              "      <td>30.0</td>\n",
              "      <td>37.8</td>\n",
              "      <td>95.7</td>\n",
              "      <td>0.0</td>\n",
              "      <td>3.1</td>\n",
              "    </tr>\n",
              "    <tr>\n",
              "      <th>1</th>\n",
              "      <td>Adilabad</td>\n",
              "      <td>Bheempoor</td>\n",
              "      <td>2021-01-02</td>\n",
              "      <td>0.0</td>\n",
              "      <td>11.7</td>\n",
              "      <td>29.9</td>\n",
              "      <td>40.6</td>\n",
              "      <td>96.6</td>\n",
              "      <td>0.0</td>\n",
              "      <td>2.2</td>\n",
              "    </tr>\n",
              "    <tr>\n",
              "      <th>2</th>\n",
              "      <td>Adilabad</td>\n",
              "      <td>Bheempoor</td>\n",
              "      <td>2021-01-03</td>\n",
              "      <td>0.0</td>\n",
              "      <td>10.4</td>\n",
              "      <td>30.4</td>\n",
              "      <td>45.8</td>\n",
              "      <td>97.0</td>\n",
              "      <td>0.0</td>\n",
              "      <td>2.2</td>\n",
              "    </tr>\n",
              "    <tr>\n",
              "      <th>3</th>\n",
              "      <td>Adilabad</td>\n",
              "      <td>Bheempoor</td>\n",
              "      <td>2021-01-04</td>\n",
              "      <td>0.0</td>\n",
              "      <td>13.1</td>\n",
              "      <td>30.5</td>\n",
              "      <td>38.4</td>\n",
              "      <td>96.4</td>\n",
              "      <td>0.0</td>\n",
              "      <td>2.0</td>\n",
              "    </tr>\n",
              "    <tr>\n",
              "      <th>4</th>\n",
              "      <td>Adilabad</td>\n",
              "      <td>Bheempoor</td>\n",
              "      <td>2021-01-05</td>\n",
              "      <td>0.0</td>\n",
              "      <td>13.4</td>\n",
              "      <td>29.8</td>\n",
              "      <td>50.7</td>\n",
              "      <td>97.0</td>\n",
              "      <td>0.0</td>\n",
              "      <td>2.0</td>\n",
              "    </tr>\n",
              "  </tbody>\n",
              "</table>\n",
              "</div>"
            ],
            "text/plain": [
              "   District     Mandal  ... Min Wind Speed (Kmph)  Max Wind Speed (Kmph)\n",
              "0  Adilabad  Bheempoor  ...                   0.0                    3.1\n",
              "1  Adilabad  Bheempoor  ...                   0.0                    2.2\n",
              "2  Adilabad  Bheempoor  ...                   0.0                    2.2\n",
              "3  Adilabad  Bheempoor  ...                   0.0                    2.0\n",
              "4  Adilabad  Bheempoor  ...                   0.0                    2.0\n",
              "\n",
              "[5 rows x 10 columns]"
            ]
          },
          "metadata": {},
          "execution_count": 4
        }
      ]
    },
    {
      "cell_type": "code",
      "metadata": {
        "colab": {
          "base_uri": "https://localhost:8080/",
          "height": 360
        },
        "id": "AIshrEPYHgcG",
        "outputId": "7fdf2c12-b98c-40ef-803c-69ff744a1ff4"
      },
      "source": [
        "rain = list(data[\"Rain (mm)\"])\n",
        "rain_tmrw = []\n",
        "for x in range(1,len(rain)):\n",
        "  if rain[x] != 0.0:\n",
        "    rain_tmrw.append(\"Yes\")\n",
        "  else:\n",
        "    rain_tmrw.append(\"No\")\n",
        "rain_tmrw.append(\"No\")\n",
        "data['RainTomorrow'] = rain_tmrw\n",
        "data.head()\n",
        "\n"
      ],
      "execution_count": 5,
      "outputs": [
        {
          "output_type": "execute_result",
          "data": {
            "text/html": [
              "<div>\n",
              "<style scoped>\n",
              "    .dataframe tbody tr th:only-of-type {\n",
              "        vertical-align: middle;\n",
              "    }\n",
              "\n",
              "    .dataframe tbody tr th {\n",
              "        vertical-align: top;\n",
              "    }\n",
              "\n",
              "    .dataframe thead th {\n",
              "        text-align: right;\n",
              "    }\n",
              "</style>\n",
              "<table border=\"1\" class=\"dataframe\">\n",
              "  <thead>\n",
              "    <tr style=\"text-align: right;\">\n",
              "      <th></th>\n",
              "      <th>District</th>\n",
              "      <th>Mandal</th>\n",
              "      <th>Date</th>\n",
              "      <th>Rain (mm)</th>\n",
              "      <th>Min Temp (°C)</th>\n",
              "      <th>Max Temp (°C)</th>\n",
              "      <th>Min Humidity (%)</th>\n",
              "      <th>Max Humidity (%)</th>\n",
              "      <th>Min Wind Speed (Kmph)</th>\n",
              "      <th>Max Wind Speed (Kmph)</th>\n",
              "      <th>RainTomorrow</th>\n",
              "    </tr>\n",
              "  </thead>\n",
              "  <tbody>\n",
              "    <tr>\n",
              "      <th>0</th>\n",
              "      <td>Adilabad</td>\n",
              "      <td>Bheempoor</td>\n",
              "      <td>2021-01-01</td>\n",
              "      <td>0.0</td>\n",
              "      <td>10.1</td>\n",
              "      <td>30.0</td>\n",
              "      <td>37.8</td>\n",
              "      <td>95.7</td>\n",
              "      <td>0.0</td>\n",
              "      <td>3.1</td>\n",
              "      <td>No</td>\n",
              "    </tr>\n",
              "    <tr>\n",
              "      <th>1</th>\n",
              "      <td>Adilabad</td>\n",
              "      <td>Bheempoor</td>\n",
              "      <td>2021-01-02</td>\n",
              "      <td>0.0</td>\n",
              "      <td>11.7</td>\n",
              "      <td>29.9</td>\n",
              "      <td>40.6</td>\n",
              "      <td>96.6</td>\n",
              "      <td>0.0</td>\n",
              "      <td>2.2</td>\n",
              "      <td>No</td>\n",
              "    </tr>\n",
              "    <tr>\n",
              "      <th>2</th>\n",
              "      <td>Adilabad</td>\n",
              "      <td>Bheempoor</td>\n",
              "      <td>2021-01-03</td>\n",
              "      <td>0.0</td>\n",
              "      <td>10.4</td>\n",
              "      <td>30.4</td>\n",
              "      <td>45.8</td>\n",
              "      <td>97.0</td>\n",
              "      <td>0.0</td>\n",
              "      <td>2.2</td>\n",
              "      <td>No</td>\n",
              "    </tr>\n",
              "    <tr>\n",
              "      <th>3</th>\n",
              "      <td>Adilabad</td>\n",
              "      <td>Bheempoor</td>\n",
              "      <td>2021-01-04</td>\n",
              "      <td>0.0</td>\n",
              "      <td>13.1</td>\n",
              "      <td>30.5</td>\n",
              "      <td>38.4</td>\n",
              "      <td>96.4</td>\n",
              "      <td>0.0</td>\n",
              "      <td>2.0</td>\n",
              "      <td>No</td>\n",
              "    </tr>\n",
              "    <tr>\n",
              "      <th>4</th>\n",
              "      <td>Adilabad</td>\n",
              "      <td>Bheempoor</td>\n",
              "      <td>2021-01-05</td>\n",
              "      <td>0.0</td>\n",
              "      <td>13.4</td>\n",
              "      <td>29.8</td>\n",
              "      <td>50.7</td>\n",
              "      <td>97.0</td>\n",
              "      <td>0.0</td>\n",
              "      <td>2.0</td>\n",
              "      <td>No</td>\n",
              "    </tr>\n",
              "  </tbody>\n",
              "</table>\n",
              "</div>"
            ],
            "text/plain": [
              "   District     Mandal  ... Max Wind Speed (Kmph)  RainTomorrow\n",
              "0  Adilabad  Bheempoor  ...                   3.1            No\n",
              "1  Adilabad  Bheempoor  ...                   2.2            No\n",
              "2  Adilabad  Bheempoor  ...                   2.2            No\n",
              "3  Adilabad  Bheempoor  ...                   2.0            No\n",
              "4  Adilabad  Bheempoor  ...                   2.0            No\n",
              "\n",
              "[5 rows x 11 columns]"
            ]
          },
          "metadata": {},
          "execution_count": 5
        }
      ]
    },
    {
      "cell_type": "code",
      "metadata": {
        "colab": {
          "base_uri": "https://localhost:8080/",
          "height": 639
        },
        "id": "O4QwxdQjD2mZ",
        "outputId": "6180ae00-3726-40ad-b217-532cd17b2f3c"
      },
      "source": [
        "corrmat = data.corr()\n",
        "cmap = sns.diverging_palette(260,-10,s=50, l=75, n=6, as_cmap=True)\n",
        "plt.subplots(figsize=(18,18))\n",
        "sns.heatmap(corrmat,cmap= cmap,annot=True, square=True)"
      ],
      "execution_count": 6,
      "outputs": [
        {
          "output_type": "execute_result",
          "data": {
            "text/plain": [
              "<matplotlib.axes._subplots.AxesSubplot at 0x7f6592c8d5d0>"
            ]
          },
          "metadata": {},
          "execution_count": 6
        },
        {
          "output_type": "display_data",
          "data": {
            "image/png": "[encoded data removed]",
            "text/plain": [
              "<Figure size 1296x1296 with 2 Axes>"
            ]
          },
          "metadata": {
            "needs_background": "light"
          }
        }
      ]
    },
    {
      "cell_type": "code",
      "metadata": {
        "colab": {
          "base_uri": "https://localhost:8080/",
          "height": 360
        },
        "id": "PVrPnkklFA6o",
        "outputId": "6b542770-3015-4bbd-fd46-010ecd018ab0"
      },
      "source": [
        "data['Date']= pd.to_datetime(data[\"Date\"])\n",
        "#Creating a collumn of year\n",
        "data['year'] = data.Date.dt.year\n",
        "\n",
        "# function to encode datetime into cyclic parameters. \n",
        "#As I am planning to use this data in a neural network I prefer the months and days in a cyclic continuous feature. \n",
        "\n",
        "def encode(data, col, max_val):\n",
        "    data[col + '_sin'] = np.sin(2 * np.pi * data[col]/max_val)\n",
        "    data[col + '_cos'] = np.cos(2 * np.pi * data[col]/max_val)\n",
        "    return data\n",
        "\n",
        "data['month'] = data.Date.dt.month\n",
        "data = encode(data, 'month', 12)\n",
        "\n",
        "data['day'] = data.Date.dt.day\n",
        "data = encode(data, 'day', 31)\n",
        "\n",
        "data.head()"
      ],
      "execution_count": 7,
      "outputs": [
        {
          "output_type": "execute_result",
          "data": {
            "text/html": [
              "<div>\n",
              "<style scoped>\n",
              "    .dataframe tbody tr th:only-of-type {\n",
              "        vertical-align: middle;\n",
              "    }\n",
              "\n",
              "    .dataframe tbody tr th {\n",
              "        vertical-align: top;\n",
              "    }\n",
              "\n",
              "    .dataframe thead th {\n",
              "        text-align: right;\n",
              "    }\n",
              "</style>\n",
              "<table border=\"1\" class=\"dataframe\">\n",
              "  <thead>\n",
              "    <tr style=\"text-align: right;\">\n",
              "      <th></th>\n",
              "      <th>District</th>\n",
              "      <th>Mandal</th>\n",
              "      <th>Date</th>\n",
              "      <th>Rain (mm)</th>\n",
              "      <th>Min Temp (°C)</th>\n",
              "      <th>Max Temp (°C)</th>\n",
              "      <th>Min Humidity (%)</th>\n",
              "      <th>Max Humidity (%)</th>\n",
              "      <th>Min Wind Speed (Kmph)</th>\n",
              "      <th>Max Wind Speed (Kmph)</th>\n",
              "      <th>RainTomorrow</th>\n",
              "      <th>year</th>\n",
              "      <th>month</th>\n",
              "      <th>month_sin</th>\n",
              "      <th>month_cos</th>\n",
              "      <th>day</th>\n",
              "      <th>day_sin</th>\n",
              "      <th>day_cos</th>\n",
              "    </tr>\n",
              "  </thead>\n",
              "  <tbody>\n",
              "    <tr>\n",
              "      <th>0</th>\n",
              "      <td>Adilabad</td>\n",
              "      <td>Bheempoor</td>\n",
              "      <td>2021-01-01</td>\n",
              "      <td>0.0</td>\n",
              "      <td>10.1</td>\n",
              "      <td>30.0</td>\n",
              "      <td>37.8</td>\n",
              "      <td>95.7</td>\n",
              "      <td>0.0</td>\n",
              "      <td>3.1</td>\n",
              "      <td>No</td>\n",
              "      <td>2021</td>\n",
              "      <td>1</td>\n",
              "      <td>0.5</td>\n",
              "      <td>0.866025</td>\n",
              "      <td>1</td>\n",
              "      <td>0.201299</td>\n",
              "      <td>0.979530</td>\n",
              "    </tr>\n",
              "    <tr>\n",
              "      <th>1</th>\n",
              "      <td>Adilabad</td>\n",
              "      <td>Bheempoor</td>\n",
              "      <td>2021-01-02</td>\n",
              "      <td>0.0</td>\n",
              "      <td>11.7</td>\n",
              "      <td>29.9</td>\n",
              "      <td>40.6</td>\n",
              "      <td>96.6</td>\n",
              "      <td>0.0</td>\n",
              "      <td>2.2</td>\n",
              "      <td>No</td>\n",
              "      <td>2021</td>\n",
              "      <td>1</td>\n",
              "      <td>0.5</td>\n",
              "      <td>0.866025</td>\n",
              "      <td>2</td>\n",
              "      <td>0.394356</td>\n",
              "      <td>0.918958</td>\n",
              "    </tr>\n",
              "    <tr>\n",
              "      <th>2</th>\n",
              "      <td>Adilabad</td>\n",
              "      <td>Bheempoor</td>\n",
              "      <td>2021-01-03</td>\n",
              "      <td>0.0</td>\n",
              "      <td>10.4</td>\n",
              "      <td>30.4</td>\n",
              "      <td>45.8</td>\n",
              "      <td>97.0</td>\n",
              "      <td>0.0</td>\n",
              "      <td>2.2</td>\n",
              "      <td>No</td>\n",
              "      <td>2021</td>\n",
              "      <td>1</td>\n",
              "      <td>0.5</td>\n",
              "      <td>0.866025</td>\n",
              "      <td>3</td>\n",
              "      <td>0.571268</td>\n",
              "      <td>0.820763</td>\n",
              "    </tr>\n",
              "    <tr>\n",
              "      <th>3</th>\n",
              "      <td>Adilabad</td>\n",
              "      <td>Bheempoor</td>\n",
              "      <td>2021-01-04</td>\n",
              "      <td>0.0</td>\n",
              "      <td>13.1</td>\n",
              "      <td>30.5</td>\n",
              "      <td>38.4</td>\n",
              "      <td>96.4</td>\n",
              "      <td>0.0</td>\n",
              "      <td>2.0</td>\n",
              "      <td>No</td>\n",
              "      <td>2021</td>\n",
              "      <td>1</td>\n",
              "      <td>0.5</td>\n",
              "      <td>0.866025</td>\n",
              "      <td>4</td>\n",
              "      <td>0.724793</td>\n",
              "      <td>0.688967</td>\n",
              "    </tr>\n",
              "    <tr>\n",
              "      <th>4</th>\n",
              "      <td>Adilabad</td>\n",
              "      <td>Bheempoor</td>\n",
              "      <td>2021-01-05</td>\n",
              "      <td>0.0</td>\n",
              "      <td>13.4</td>\n",
              "      <td>29.8</td>\n",
              "      <td>50.7</td>\n",
              "      <td>97.0</td>\n",
              "      <td>0.0</td>\n",
              "      <td>2.0</td>\n",
              "      <td>No</td>\n",
              "      <td>2021</td>\n",
              "      <td>1</td>\n",
              "      <td>0.5</td>\n",
              "      <td>0.866025</td>\n",
              "      <td>5</td>\n",
              "      <td>0.848644</td>\n",
              "      <td>0.528964</td>\n",
              "    </tr>\n",
              "  </tbody>\n",
              "</table>\n",
              "</div>"
            ],
            "text/plain": [
              "   District     Mandal       Date  ...  day   day_sin   day_cos\n",
              "0  Adilabad  Bheempoor 2021-01-01  ...    1  0.201299  0.979530\n",
              "1  Adilabad  Bheempoor 2021-01-02  ...    2  0.394356  0.918958\n",
              "2  Adilabad  Bheempoor 2021-01-03  ...    3  0.571268  0.820763\n",
              "3  Adilabad  Bheempoor 2021-01-04  ...    4  0.724793  0.688967\n",
              "4  Adilabad  Bheempoor 2021-01-05  ...    5  0.848644  0.528964\n",
              "\n",
              "[5 rows x 18 columns]"
            ]
          },
          "metadata": {},
          "execution_count": 7
        }
      ]
    },
    {
      "cell_type": "code",
      "metadata": {
        "colab": {
          "base_uri": "https://localhost:8080/",
          "height": 312
        },
        "id": "7V9WyuQLFeLj",
        "outputId": "3a60767c-c9b0-4f1b-b782-d78401162baf"
      },
      "source": [
        "section = data[:360] \n",
        "tm = section[\"day\"].plot(color=\"#C2C4E2\")\n",
        "tm.set_title(\"Distribution Of Days Over Year\")\n",
        "tm.set_ylabel(\"Days In month\")\n",
        "tm.set_xlabel(\"Days In Year\")\n"
      ],
      "execution_count": 8,
      "outputs": [
        {
          "output_type": "execute_result",
          "data": {
            "text/plain": [
              "Text(0.5, 0, 'Days In Year')"
            ]
          },
          "metadata": {},
          "execution_count": 8
        },
        {
          "output_type": "display_data",
          "data": {
            "image/png": "[encoded data removed]",
            "text/plain": [
              "<Figure size 432x288 with 1 Axes>"
            ]
          },
          "metadata": {
            "needs_background": "light"
          }
        }
      ]
    },
    {
      "cell_type": "code",
      "metadata": {
        "colab": {
          "base_uri": "https://localhost:8080/",
          "height": 312
        },
        "id": "hSuyqcZNFtTw",
        "outputId": "5e6134e8-962e-486c-f3fc-1b83132c5ea8"
      },
      "source": [
        "cyclic_month = sns.scatterplot(x=\"month_sin\",y=\"month_cos\",data=data, color=\"#C2C4E2\")\n",
        "cyclic_month.set_title(\"Cyclic Encoding of Month\")\n",
        "cyclic_month.set_ylabel(\"Cosine Encoded Months\")\n",
        "cyclic_month.set_xlabel(\"Sine Encoded Months\")"
      ],
      "execution_count": 9,
      "outputs": [
        {
          "output_type": "execute_result",
          "data": {
            "text/plain": [
              "Text(0.5, 0, 'Sine Encoded Months')"
            ]
          },
          "metadata": {},
          "execution_count": 9
        },
        {
          "output_type": "display_data",
          "data": {
            "image/png": "[encoded data removed]",
            "text/plain": [
              "<Figure size 432x288 with 1 Axes>"
            ]
          },
          "metadata": {
            "needs_background": "light"
          }
        }
      ]
    },
    {
      "cell_type": "code",
      "metadata": {
        "colab": {
          "base_uri": "https://localhost:8080/",
          "height": 312
        },
        "id": "Gwhb2VNfGBVw",
        "outputId": "2a2a1855-4b77-4f90-ae0a-9f607f066f01"
      },
      "source": [
        "cyclic_day = sns.scatterplot(x='day_sin',y='day_cos',data=data, color=\"#C2C4E2\")\n",
        "cyclic_day.set_title(\"Cyclic Encoding of Day\")\n",
        "cyclic_day.set_ylabel(\"Cosine Encoded Day\")\n",
        "cyclic_day.set_xlabel(\"Sine Encoded Day\")"
      ],
      "execution_count": 10,
      "outputs": [
        {
          "output_type": "execute_result",
          "data": {
            "text/plain": [
              "Text(0.5, 0, 'Sine Encoded Day')"
            ]
          },
          "metadata": {},
          "execution_count": 10
        },
        {
          "output_type": "display_data",
          "data": {
            "image/png": "[encoded data removed]",
            "text/plain": [
              "<Figure size 432x288 with 1 Axes>"
            ]
          },
          "metadata": {
            "needs_background": "light"
          }
        }
      ]
    },
    {
      "cell_type": "code",
      "metadata": {
        "colab": {
          "base_uri": "https://localhost:8080/"
        },
        "id": "74MLvq7nGC9V",
        "outputId": "cbb2a386-35f7-4e1e-96e5-e7981469a78d"
      },
      "source": [
        "s = (data.dtypes == \"object\")\n",
        "object_cols = list(s[s].index)\n",
        "\n",
        "print(\"Categorical variables:\")\n",
        "print(object_cols)"
      ],
      "execution_count": 11,
      "outputs": [
        {
          "output_type": "stream",
          "name": "stdout",
          "text": [
            "Categorical variables:\n",
            "['District', 'Mandal', 'RainTomorrow']\n"
          ]
        }
      ]
    },
    {
      "cell_type": "code",
      "metadata": {
        "colab": {
          "base_uri": "https://localhost:8080/"
        },
        "id": "qg7bWCWiGJ4z",
        "outputId": "47977d23-6376-408e-9644-3a8c38e51dc2"
      },
      "source": [
        "# Filling missing values with mode of the column in value\n",
        "\n",
        "for i in object_cols:\n",
        "    data[i].fillna(data[i].mode()[0], inplace=True)\n",
        "for i in object_cols:\n",
        "    print(i, data[i].isnull().sum())"
      ],
      "execution_count": 12,
      "outputs": [
        {
          "output_type": "stream",
          "name": "stdout",
          "text": [
            "District 0\n",
            "Mandal 0\n",
            "RainTomorrow 0\n"
          ]
        }
      ]
    },
    {
      "cell_type": "code",
      "metadata": {
        "colab": {
          "base_uri": "https://localhost:8080/"
        },
        "id": "28azOOrUGSJC",
        "outputId": "3f45d99f-2cb0-446b-e1ea-6be3b549b4bc"
      },
      "source": [
        "t = (data.dtypes == \"float64\")\n",
        "num_cols = list(t[t].index)\n",
        "\n",
        "print(\"Neumeric variables:\")\n",
        "print(num_cols)"
      ],
      "execution_count": 13,
      "outputs": [
        {
          "output_type": "stream",
          "name": "stdout",
          "text": [
            "Neumeric variables:\n",
            "['Rain (mm)', 'Min Temp (°C)', 'Max Temp (°C)', 'Min Humidity (%)', 'Max Humidity (%)', 'Min Wind Speed (Kmph)', 'Max Wind Speed (Kmph)', 'month_sin', 'month_cos', 'day_sin', 'day_cos']\n"
          ]
        }
      ]
    },
    {
      "cell_type": "code",
      "metadata": {
        "colab": {
          "base_uri": "https://localhost:8080/"
        },
        "id": "Fr6b4SfUGXXl",
        "outputId": "9349325b-efed-4337-e8e2-54af876218e0"
      },
      "source": [
        "for i in num_cols:\n",
        "    print(i, data[i].isnull().sum())\n",
        "for i in num_cols:\n",
        "    data[i].fillna(data[i].median(), inplace=True)\n",
        "    \n",
        "data.info()"
      ],
      "execution_count": 14,
      "outputs": [
        {
          "output_type": "stream",
          "name": "stdout",
          "text": [
            "Rain (mm) 0\n",
            "Min Temp (°C) 0\n",
            "Max Temp (°C) 0\n",
            "Min Humidity (%) 1\n",
            "Max Humidity (%) 1\n",
            "Min Wind Speed (Kmph) 52216\n",
            "Max Wind Speed (Kmph) 52568\n",
            "month_sin 0\n",
            "month_cos 0\n",
            "day_sin 0\n",
            "day_cos 0\n",
            "<class 'pandas.core.frame.DataFrame'>\n",
            "RangeIndex: 192740 entries, 0 to 192739\n",
            "Data columns (total 18 columns):\n",
            " #   Column                 Non-Null Count   Dtype         \n",
            "---  ------                 --------------   -----         \n",
            " 0   District               192740 non-null  object        \n",
            " 1   Mandal                 192740 non-null  object        \n",
            " 2   Date                   192740 non-null  datetime64[ns]\n",
            " 3   Rain (mm)              192740 non-null  float64       \n",
            " 4   Min Temp (°C)          192740 non-null  float64       \n",
            " 5   Max Temp (°C)          192740 non-null  float64       \n",
            " 6   Min Humidity (%)       192740 non-null  float64       \n",
            " 7   Max Humidity (%)       192740 non-null  float64       \n",
            " 8   Min Wind Speed (Kmph)  192740 non-null  float64       \n",
            " 9   Max Wind Speed (Kmph)  192740 non-null  float64       \n",
            " 10  RainTomorrow           192740 non-null  object        \n",
            " 11  year                   192740 non-null  int64         \n",
            " 12  month                  192740 non-null  int64         \n",
            " 13  month_sin              192740 non-null  float64       \n",
            " 14  month_cos              192740 non-null  float64       \n",
            " 15  day                    192740 non-null  int64         \n",
            " 16  day_sin                192740 non-null  float64       \n",
            " 17  day_cos                192740 non-null  float64       \n",
            "dtypes: datetime64[ns](1), float64(11), int64(3), object(3)\n",
            "memory usage: 26.5+ MB\n"
          ]
        }
      ]
    },
    {
      "cell_type": "markdown",
      "metadata": {
        "id": "j-L0M7YQG378"
      },
      "source": [
        "##DATA Pre - Processing"
      ]
    },
    {
      "cell_type": "code",
      "metadata": {
        "colab": {
          "base_uri": "https://localhost:8080/"
        },
        "id": "7tUbIq-OG7WY",
        "outputId": "19d71ef9-904b-4538-a161-d145199c018e"
      },
      "source": [
        "label_encoder = LabelEncoder()\n",
        "for i in object_cols:\n",
        "    data[i] = label_encoder.fit_transform(data[i])\n",
        "    \n",
        "data.info()"
      ],
      "execution_count": 15,
      "outputs": [
        {
          "output_type": "stream",
          "name": "stdout",
          "text": [
            "<class 'pandas.core.frame.DataFrame'>\n",
            "RangeIndex: 192740 entries, 0 to 192739\n",
            "Data columns (total 18 columns):\n",
            " #   Column                 Non-Null Count   Dtype         \n",
            "---  ------                 --------------   -----         \n",
            " 0   District               192740 non-null  int64         \n",
            " 1   Mandal                 192740 non-null  int64         \n",
            " 2   Date                   192740 non-null  datetime64[ns]\n",
            " 3   Rain (mm)              192740 non-null  float64       \n",
            " 4   Min Temp (°C)          192740 non-null  float64       \n",
            " 5   Max Temp (°C)          192740 non-null  float64       \n",
            " 6   Min Humidity (%)       192740 non-null  float64       \n",
            " 7   Max Humidity (%)       192740 non-null  float64       \n",
            " 8   Min Wind Speed (Kmph)  192740 non-null  float64       \n",
            " 9   Max Wind Speed (Kmph)  192740 non-null  float64       \n",
            " 10  RainTomorrow           192740 non-null  int64         \n",
            " 11  year                   192740 non-null  int64         \n",
            " 12  month                  192740 non-null  int64         \n",
            " 13  month_sin              192740 non-null  float64       \n",
            " 14  month_cos              192740 non-null  float64       \n",
            " 15  day                    192740 non-null  int64         \n",
            " 16  day_sin                192740 non-null  float64       \n",
            " 17  day_cos                192740 non-null  float64       \n",
            "dtypes: datetime64[ns](1), float64(11), int64(6)\n",
            "memory usage: 26.5 MB\n"
          ]
        }
      ]
    },
    {
      "cell_type": "code",
      "metadata": {
        "colab": {
          "base_uri": "https://localhost:8080/"
        },
        "id": "QmlRlCMRHAcs",
        "outputId": "8aad9816-9779-498b-d589-5dca1b62905a"
      },
      "source": [
        "features = data.drop(['RainTomorrow', 'Date','day', 'month'], axis=1) # dropping target and extra columns\n",
        "\n",
        "target = data['RainTomorrow']\n",
        "\n",
        "#Set up a standard scaler for the features\n",
        "col_names = list(features.columns)\n",
        "s_scaler = preprocessing.StandardScaler()\n",
        "features = s_scaler.fit_transform(features)\n",
        "features = pd.DataFrame(features, columns=col_names) \n",
        "\n",
        "features.describe().T\n",
        "print(features)"
      ],
      "execution_count": 16,
      "outputs": [
        {
          "output_type": "stream",
          "name": "stdout",
          "text": [
            "        District    Mandal  Rain (mm)  ...  month_cos   day_sin   day_cos\n",
            "0      -1.841229 -1.377789  -0.097211  ...   1.143919  0.273422  1.447463\n",
            "1      -1.841229 -1.377789  -0.097211  ...   1.143919  0.542870  1.360554\n",
            "2      -1.841229 -1.377789  -0.097211  ...   1.143919  0.789785  1.219664\n",
            "3      -1.841229 -1.377789  -0.097211  ...   1.143919  1.004058  1.030562\n",
            "4      -1.841229 -1.377789  -0.097211  ...   1.143919  1.176916  0.800990\n",
            "...          ...       ...        ...  ...        ...       ...       ...\n",
            "192735  1.844403  1.688004  -0.097211  ...  -1.260433 -1.019115  1.030562\n",
            "192736  1.844403  1.688004  -0.097211  ...  -1.260433 -0.804842  1.219664\n",
            "192737  1.844403  1.688004  -0.097211  ...  -1.260433 -0.557927  1.360554\n",
            "192738  1.844403  1.688004  -0.097211  ...  -1.260433 -0.288479  1.447463\n",
            "192739  1.844403  1.688004  -0.097211  ...  -1.260433 -0.007528  1.476833\n",
            "\n",
            "[192740 rows x 14 columns]\n"
          ]
        }
      ]
    },
    {
      "cell_type": "code",
      "metadata": {
        "colab": {
          "base_uri": "https://localhost:8080/",
          "height": 630
        },
        "id": "RIfEazRlKt5s",
        "outputId": "971c3ed6-4484-433c-cdd9-a90eea9dd925"
      },
      "source": [
        "colours = [\"#D0DBEE\", \"#C2C4E2\", \"#EED4E5\", \"#D1E6DC\", \"#BDE2E2\"]\n",
        "plt.figure(figsize=(20,10))\n",
        "sns.boxenplot(data = features,palette = colours)\n",
        "plt.xticks(rotation=90)\n",
        "plt.show()\n",
        "print(features)"
      ],
      "execution_count": 17,
      "outputs": [
        {
          "output_type": "display_data",
          "data": {
            "image/png": "[encoded data removed]",
            "text/plain": [
              "<Figure size 1440x720 with 1 Axes>"
            ]
          },
          "metadata": {
            "needs_background": "light"
          }
        },
        {
          "output_type": "stream",
          "name": "stdout",
          "text": [
            "        District    Mandal  Rain (mm)  ...  month_cos   day_sin   day_cos\n",
            "0      -1.841229 -1.377789  -0.097211  ...   1.143919  0.273422  1.447463\n",
            "1      -1.841229 -1.377789  -0.097211  ...   1.143919  0.542870  1.360554\n",
            "2      -1.841229 -1.377789  -0.097211  ...   1.143919  0.789785  1.219664\n",
            "3      -1.841229 -1.377789  -0.097211  ...   1.143919  1.004058  1.030562\n",
            "4      -1.841229 -1.377789  -0.097211  ...   1.143919  1.176916  0.800990\n",
            "...          ...       ...        ...  ...        ...       ...       ...\n",
            "192735  1.844403  1.688004  -0.097211  ...  -1.260433 -1.019115  1.030562\n",
            "192736  1.844403  1.688004  -0.097211  ...  -1.260433 -0.804842  1.219664\n",
            "192737  1.844403  1.688004  -0.097211  ...  -1.260433 -0.557927  1.360554\n",
            "192738  1.844403  1.688004  -0.097211  ...  -1.260433 -0.288479  1.447463\n",
            "192739  1.844403  1.688004  -0.097211  ...  -1.260433 -0.007528  1.476833\n",
            "\n",
            "[192740 rows x 14 columns]\n"
          ]
        }
      ]
    },
    {
      "cell_type": "code",
      "metadata": {
        "colab": {
          "base_uri": "https://localhost:8080/"
        },
        "id": "NAUbi1BJK5IQ",
        "outputId": "27e2e3d8-cef6-4d44-91ca-b02b80db2a30"
      },
      "source": [
        "#full data for \n",
        "features[\"RainTomorrow\"] = target\n",
        "print(features)\n",
        "#Dropping with outlier\n",
        "\n",
        "#features = features[(features[\"Min Temp (°C)\"]<27)&(features[\"Min Temp (°C)\"]>10)]\n",
        "#features = features[(features[\"Max Temp (°C)\"]<45)&(features[\"Max Temp (°C)\"]>30)]\n",
        "#features = features[(features[\"Rain (mm)\"]<4.5)]\n",
        "#features = features[(features[\"Min Wind Speed (Kmph)\"]<2)]\n",
        "#features = features[(features[\"Max Wind Speed (Kmph)\"]>1.0)]\n",
        "#features = features[(features[\"Min Humidity (%)\"]>10)]\n",
        "#features = features[(features[\"Max Humidity (%)\"]<90)]\n",
        "\n",
        "features = features[(features[\"Min Temp (°C)\"]<2.3)&(features[\"Min Temp (°C)\"]>-2.3)]\n",
        "features = features[(features[\"Max Temp (°C)\"]<2.3)&(features[\"Max Temp (°C)\"]>-2)]\n",
        "features = features[(features[\"Rain (mm)\"]<4.5)]\n",
        "features = features[(features[\"Min Wind Speed (Kmph)\"]<4)]\n",
        "features = features[(features[\"Max Wind Speed (Kmph)\"]<2.5)]\n",
        "features = features[(features[\"Min Humidity (%)\"]>-3)]\n",
        "features = features[(features[\"Max Humidity (%)\"]>-2.2)]\n",
        "\n",
        "\n",
        "\n",
        "features.shape"
      ],
      "execution_count": 18,
      "outputs": [
        {
          "output_type": "stream",
          "name": "stdout",
          "text": [
            "        District    Mandal  Rain (mm)  ...   day_sin   day_cos  RainTomorrow\n",
            "0      -1.841229 -1.377789  -0.097211  ...  0.273422  1.447463             0\n",
            "1      -1.841229 -1.377789  -0.097211  ...  0.542870  1.360554             0\n",
            "2      -1.841229 -1.377789  -0.097211  ...  0.789785  1.219664             0\n",
            "3      -1.841229 -1.377789  -0.097211  ...  1.004058  1.030562             0\n",
            "4      -1.841229 -1.377789  -0.097211  ...  1.176916  0.800990             0\n",
            "...          ...       ...        ...  ...       ...       ...           ...\n",
            "192735  1.844403  1.688004  -0.097211  ... -1.019115  1.030562             0\n",
            "192736  1.844403  1.688004  -0.097211  ... -0.804842  1.219664             0\n",
            "192737  1.844403  1.688004  -0.097211  ... -0.557927  1.360554             0\n",
            "192738  1.844403  1.688004  -0.097211  ... -0.288479  1.447463             0\n",
            "192739  1.844403  1.688004  -0.097211  ... -0.007528  1.476833             0\n",
            "\n",
            "[192740 rows x 15 columns]\n"
          ]
        },
        {
          "output_type": "execute_result",
          "data": {
            "text/plain": [
              "(171251, 15)"
            ]
          },
          "metadata": {},
          "execution_count": 18
        }
      ]
    },
    {
      "cell_type": "markdown",
      "metadata": {
        "id": "FIO9QNgcOckP"
      },
      "source": [
        "## Model Building"
      ]
    },
    {
      "cell_type": "code",
      "metadata": {
        "colab": {
          "base_uri": "https://localhost:8080/"
        },
        "id": "eCJhxcmuOg_o",
        "outputId": "7dbaee17-f5a8-49ae-c854-e82885866a6e"
      },
      "source": [
        "X = features.drop([\"RainTomorrow\"], axis=1)\n",
        "y = features[\"RainTomorrow\"]\n",
        "\n",
        "# Splitting test and training sets\n",
        "X_train, X_test, y_train, y_test = train_test_split(X, y, test_size = 0.2, random_state = 42)\n",
        "\n",
        "X.shape"
      ],
      "execution_count": 19,
      "outputs": [
        {
          "output_type": "execute_result",
          "data": {
            "text/plain": [
              "(171251, 14)"
            ]
          },
          "metadata": {},
          "execution_count": 19
        }
      ]
    },
    {
      "cell_type": "code",
      "metadata": {
        "colab": {
          "base_uri": "https://localhost:8080/"
        },
        "id": "2ssaRmw4OoTt",
        "outputId": "1dbe69d4-416e-4218-8750-6c86af669a98"
      },
      "source": [
        "early_stopping = callbacks.EarlyStopping(\n",
        "    min_delta=0.001, # minimium amount of change to count as an improvement\n",
        "    patience=5, # how many epochs to wait before stopping\n",
        "    restore_best_weights=True,\n",
        ")\n",
        "\n",
        "# Initialising the NN\n",
        "model = Sequential()\n",
        "\n",
        "# layers\n",
        "\n",
        "model.add(Dense(units = 32, kernel_initializer = 'uniform', activation = 'relu', input_dim = 14))\n",
        "model.add(Dense(units = 32, kernel_initializer = 'uniform', activation = 'relu'))\n",
        "model.add(Dense(units = 16, kernel_initializer = 'uniform', activation = 'relu'))\n",
        "model.add(Dropout(0.25))\n",
        "model.add(Dense(units = 8, kernel_initializer = 'uniform', activation = 'relu'))\n",
        "model.add(Dropout(0.5))\n",
        "model.add(Dense(units = 1, kernel_initializer = 'uniform', activation = 'sigmoid'))\n",
        "\n",
        "# Compiling the ANN\n",
        "opt = Adam(learning_rate=0.0000009)\n",
        "model.compile(optimizer = opt, loss = 'binary_crossentropy', metrics = ['accuracy'])\n",
        "\n",
        "# Train the ANN\n",
        "history = model.fit(X_train, y_train, batch_size = 16, epochs = 10, callbacks=[early_stopping], validation_split=0.2)"
      ],
      "execution_count": 20,
      "outputs": [
        {
          "output_type": "stream",
          "name": "stdout",
          "text": [
            "Epoch 1/10\n",
            "6850/6850 [==============================] - 14s 2ms/step - loss: 0.6914 - accuracy: 0.9720 - val_loss: 0.6896 - val_accuracy: 0.9722\n",
            "Epoch 2/10\n",
            "6850/6850 [==============================] - 13s 2ms/step - loss: 0.6877 - accuracy: 0.9725 - val_loss: 0.6857 - val_accuracy: 0.9722\n",
            "Epoch 3/10\n",
            "6850/6850 [==============================] - 13s 2ms/step - loss: 0.6836 - accuracy: 0.9725 - val_loss: 0.6813 - val_accuracy: 0.9722\n",
            "Epoch 4/10\n",
            "6850/6850 [==============================] - 14s 2ms/step - loss: 0.6787 - accuracy: 0.9725 - val_loss: 0.6758 - val_accuracy: 0.9722\n",
            "Epoch 5/10\n",
            "6850/6850 [==============================] - 13s 2ms/step - loss: 0.6725 - accuracy: 0.9725 - val_loss: 0.6689 - val_accuracy: 0.9722\n",
            "Epoch 6/10\n",
            "6850/6850 [==============================] - 14s 2ms/step - loss: 0.6646 - accuracy: 0.9725 - val_loss: 0.6600 - val_accuracy: 0.9722\n",
            "Epoch 7/10\n",
            "6850/6850 [==============================] - 14s 2ms/step - loss: 0.6544 - accuracy: 0.9725 - val_loss: 0.6481 - val_accuracy: 0.9722\n",
            "Epoch 8/10\n",
            "6850/6850 [==============================] - 13s 2ms/step - loss: 0.6408 - accuracy: 0.9725 - val_loss: 0.6324 - val_accuracy: 0.9722\n",
            "Epoch 9/10\n",
            "6850/6850 [==============================] - 14s 2ms/step - loss: 0.6227 - accuracy: 0.9725 - val_loss: 0.6116 - val_accuracy: 0.9722\n",
            "Epoch 10/10\n",
            "6850/6850 [==============================] - 13s 2ms/step - loss: 0.5995 - accuracy: 0.9725 - val_loss: 0.5847 - val_accuracy: 0.9722\n"
          ]
        }
      ]
    },
    {
      "cell_type": "code",
      "metadata": {
        "colab": {
          "base_uri": "https://localhost:8080/",
          "height": 295
        },
        "id": "XPCvU_q7P_Q7",
        "outputId": "0df834b1-b3e4-48bc-a987-24c6c242a1e5"
      },
      "source": [
        "history_df = pd.DataFrame(history.history)\n",
        "\n",
        "plt.plot(history_df.loc[:, ['loss']], \"#BDE2E2\", label='Training loss')\n",
        "plt.plot(history_df.loc[:, ['val_loss']],\"#C2C4E2\", label='Validation loss')\n",
        "plt.title('Training and Validation loss')\n",
        "plt.xlabel('Epochs')\n",
        "plt.ylabel('Loss')\n",
        "plt.legend(loc=\"best\")\n",
        "\n",
        "plt.show()"
      ],
      "execution_count": 21,
      "outputs": [
        {
          "output_type": "display_data",
          "data": {
            "image/png": "[encoded data removed]",
            "text/plain": [
              "<Figure size 432x288 with 1 Axes>"
            ]
          },
          "metadata": {
            "needs_background": "light"
          }
        }
      ]
    },
    {
      "cell_type": "code",
      "metadata": {
        "id": "05bUJr2jR9JJ"
      },
      "source": [
        "y_pred = model.predict(X_test)\n",
        "y_pred = (y_pred > 0.5)"
      ],
      "execution_count": 22,
      "outputs": []
    },
    {
      "cell_type": "code",
      "metadata": {
        "colab": {
          "base_uri": "https://localhost:8080/",
          "height": 488
        },
        "id": "k78R0GHLSB8C",
        "outputId": "9a49f393-b69e-44c7-f6bc-f0b3c2431a14"
      },
      "source": [
        "cmap1 = sns.diverging_palette(260,-10,s=50, l=75, n=5, as_cmap=True)\n",
        "plt.subplots(figsize=(12,8))\n",
        "cf_matrix = confusion_matrix(y_test, y_pred)\n",
        "sns.heatmap(cf_matrix/np.sum(cf_matrix), cmap = cmap1, annot = True, annot_kws = {'size':15})"
      ],
      "execution_count": 23,
      "outputs": [
        {
          "output_type": "execute_result",
          "data": {
            "text/plain": [
              "<matplotlib.axes._subplots.AxesSubplot at 0x7f65953f7550>"
            ]
          },
          "metadata": {},
          "execution_count": 23
        },
        {
          "output_type": "display_data",
          "data": {
            "image/png": "[encoded data removed]",
            "text/plain": [
              "<Figure size 864x576 with 2 Axes>"
            ]
          },
          "metadata": {
            "needs_background": "light"
          }
        }
      ]
    },
    {
      "cell_type": "code",
      "metadata": {
        "colab": {
          "base_uri": "https://localhost:8080/"
        },
        "id": "E83EKmEmSKk_",
        "outputId": "ab0a3604-26bd-4c34-9d81-6e0cc707ed67"
      },
      "source": [
        "print(classification_report(y_test, y_pred))"
      ],
      "execution_count": 24,
      "outputs": [
        {
          "output_type": "stream",
          "name": "stdout",
          "text": [
            "              precision    recall  f1-score   support\n",
            "\n",
            "           0       0.97      1.00      0.99     33318\n",
            "           1       0.00      0.00      0.00       933\n",
            "\n",
            "    accuracy                           0.97     34251\n",
            "   macro avg       0.49      0.50      0.49     34251\n",
            "weighted avg       0.95      0.97      0.96     34251\n",
            "\n"
          ]
        },
        {
          "output_type": "stream",
          "name": "stderr",
          "text": [
            "/usr/local/lib/python3.7/dist-packages/sklearn/metrics/_classification.py:1272: UndefinedMetricWarning: Precision and F-score are ill-defined and being set to 0.0 in labels with no predicted samples. Use `zero_division` parameter to control this behavior.\n",
            "  _warn_prf(average, modifier, msg_start, len(result))\n"
          ]
        }
      ]
    }
  ]
}