{
  "nbformat": 4,
  "nbformat_minor": 0,
  "metadata": {
    "colab": {
      "name": "tsic dsg hackathon.ipynb",
      "provenance": []
    },
    "kernelspec": {
      "name": "python3",
      "display_name": "Python 3"
    },
    "language_info": {
      "name": "python"
    }
  },
  "cells": [
    {
      "cell_type": "code",
      "metadata": {
        "id": "AxtXKl5ICxM4"
      },
      "source": [
        "import matplotlib.pyplot as plt\n",
        "import seaborn as sns\n",
        "import datetime\n",
        "from sklearn.preprocessing import LabelEncoder\n",
        "from sklearn import preprocessing\n",
        "from sklearn.preprocessing import StandardScaler\n",
        "from sklearn.model_selection import train_test_split\n",
        "import seaborn as sns\n",
        "from keras.layers import Dense, BatchNormalization, Dropout, LSTM\n",
        "from keras.models import Sequential\n",
        "from tensorflow.keras.utils import to_categorical\n",
        "from tensorflow.keras.optimizers import Adam\n",
        "from tensorflow.keras import regularizers\n",
        "from sklearn.metrics import precision_score, recall_score, confusion_matrix, classification_report, accuracy_score, f1_score\n",
        "from keras import callbacks\n",
        "import pandas as pd\n",
        "import numpy as np"
      ],
      "execution_count": 17,
      "outputs": []
    },
    {
      "cell_type": "code",
      "metadata": {
        "colab": {
          "base_uri": "https://localhost:8080/",
          "height": 204
        },
        "id": "aAtiH-CsDWXx",
        "outputId": "6dd3dafe-fd7c-4703-dcbd-a26a53f2f6a1"
      },
      "source": [
        "data = pd.read_excel(\"/content/final.xlsx\")\n",
        "data.head()"
      ],
      "execution_count": 145,
      "outputs": [
        {
          "output_type": "execute_result",
          "data": {
            "text/html": [
              "<div>\n",
              "<style scoped>\n",
              "    .dataframe tbody tr th:only-of-type {\n",
              "        vertical-align: middle;\n",
              "    }\n",
              "\n",
              "    .dataframe tbody tr th {\n",
              "        vertical-align: top;\n",
              "    }\n",
              "\n",
              "    .dataframe thead th {\n",
              "        text-align: right;\n",
              "    }\n",
              "</style>\n",
              "<table border=\"1\" class=\"dataframe\">\n",
              "  <thead>\n",
              "    <tr style=\"text-align: right;\">\n",
              "      <th></th>\n",
              "      <th>District</th>\n",
              "      <th>Mandal</th>\n",
              "      <th>Date</th>\n",
              "      <th>Rain (mm)</th>\n",
              "      <th>Min Temp (°C)</th>\n",
              "      <th>Max Temp (°C)</th>\n",
              "      <th>Min Humidity (%)</th>\n",
              "      <th>Max Humidity (%)</th>\n",
              "      <th>Min Wind Speed (Kmph)</th>\n",
              "      <th>Max Wind Speed (Kmph)</th>\n",
              "    </tr>\n",
              "  </thead>\n",
              "  <tbody>\n",
              "    <tr>\n",
              "      <th>0</th>\n",
              "      <td>Adilabad</td>\n",
              "      <td>Bheempoor</td>\n",
              "      <td>2020-01-01</td>\n",
              "      <td>6.8</td>\n",
              "      <td>16.4</td>\n",
              "      <td>25.8</td>\n",
              "      <td>62.2</td>\n",
              "      <td>96.2</td>\n",
              "      <td>0.0</td>\n",
              "      <td>3.2</td>\n",
              "    </tr>\n",
              "    <tr>\n",
              "      <th>1</th>\n",
              "      <td>Adilabad</td>\n",
              "      <td>Bheempoor</td>\n",
              "      <td>2020-01-02</td>\n",
              "      <td>0.0</td>\n",
              "      <td>17.1</td>\n",
              "      <td>27.7</td>\n",
              "      <td>65.4</td>\n",
              "      <td>94.8</td>\n",
              "      <td>0.0</td>\n",
              "      <td>2.1</td>\n",
              "    </tr>\n",
              "    <tr>\n",
              "      <th>2</th>\n",
              "      <td>Adilabad</td>\n",
              "      <td>Bheempoor</td>\n",
              "      <td>2020-01-03</td>\n",
              "      <td>25.8</td>\n",
              "      <td>16.9</td>\n",
              "      <td>22.2</td>\n",
              "      <td>85.6</td>\n",
              "      <td>96.9</td>\n",
              "      <td>0.0</td>\n",
              "      <td>1.1</td>\n",
              "    </tr>\n",
              "    <tr>\n",
              "      <th>3</th>\n",
              "      <td>Adilabad</td>\n",
              "      <td>Bheempoor</td>\n",
              "      <td>2020-01-04</td>\n",
              "      <td>0.0</td>\n",
              "      <td>15.1</td>\n",
              "      <td>23.0</td>\n",
              "      <td>79.5</td>\n",
              "      <td>98.3</td>\n",
              "      <td>0.0</td>\n",
              "      <td>1.4</td>\n",
              "    </tr>\n",
              "    <tr>\n",
              "      <th>4</th>\n",
              "      <td>Adilabad</td>\n",
              "      <td>Bheempoor</td>\n",
              "      <td>2020-01-05</td>\n",
              "      <td>0.0</td>\n",
              "      <td>13.2</td>\n",
              "      <td>25.7</td>\n",
              "      <td>63.5</td>\n",
              "      <td>98.2</td>\n",
              "      <td>0.0</td>\n",
              "      <td>0.7</td>\n",
              "    </tr>\n",
              "  </tbody>\n",
              "</table>\n",
              "</div>"
            ],
            "text/plain": [
              "   District     Mandal  ... Min Wind Speed (Kmph)  Max Wind Speed (Kmph)\n",
              "0  Adilabad  Bheempoor  ...                   0.0                    3.2\n",
              "1  Adilabad  Bheempoor  ...                   0.0                    2.1\n",
              "2  Adilabad  Bheempoor  ...                   0.0                    1.1\n",
              "3  Adilabad  Bheempoor  ...                   0.0                    1.4\n",
              "4  Adilabad  Bheempoor  ...                   0.0                    0.7\n",
              "\n",
              "[5 rows x 10 columns]"
            ]
          },
          "metadata": {},
          "execution_count": 145
        }
      ]
    },
    {
      "cell_type": "code",
      "metadata": {
        "colab": {
          "base_uri": "https://localhost:8080/",
          "height": 204
        },
        "id": "AIshrEPYHgcG",
        "outputId": "bfd34bab-52da-4a5c-a873-335b27fc2ded"
      },
      "source": [
        "rain = list(data[\"Rain (mm)\"])\n",
        "rain_tmrw = [\"No\"]\n",
        "for x in range(1,len(rain)):\n",
        "  if rain[x] != 0.0:\n",
        "    rain_tmrw.append(\"Yes\")\n",
        "  else:\n",
        "    rain_tmrw.append(\"No\")\n",
        "data['RainTomorrow'] = rain_tmrw\n",
        "data.head()\n",
        "\n"
      ],
      "execution_count": 147,
      "outputs": [
        {
          "output_type": "execute_result",
          "data": {
            "text/html": [
              "<div>\n",
              "<style scoped>\n",
              "    .dataframe tbody tr th:only-of-type {\n",
              "        vertical-align: middle;\n",
              "    }\n",
              "\n",
              "    .dataframe tbody tr th {\n",
              "        vertical-align: top;\n",
              "    }\n",
              "\n",
              "    .dataframe thead th {\n",
              "        text-align: right;\n",
              "    }\n",
              "</style>\n",
              "<table border=\"1\" class=\"dataframe\">\n",
              "  <thead>\n",
              "    <tr style=\"text-align: right;\">\n",
              "      <th></th>\n",
              "      <th>District</th>\n",
              "      <th>Mandal</th>\n",
              "      <th>Date</th>\n",
              "      <th>Rain (mm)</th>\n",
              "      <th>Min Temp (°C)</th>\n",
              "      <th>Max Temp (°C)</th>\n",
              "      <th>Min Humidity (%)</th>\n",
              "      <th>Max Humidity (%)</th>\n",
              "      <th>Min Wind Speed (Kmph)</th>\n",
              "      <th>Max Wind Speed (Kmph)</th>\n",
              "      <th>RainTomorrow</th>\n",
              "    </tr>\n",
              "  </thead>\n",
              "  <tbody>\n",
              "    <tr>\n",
              "      <th>0</th>\n",
              "      <td>Adilabad</td>\n",
              "      <td>Bheempoor</td>\n",
              "      <td>2020-01-01</td>\n",
              "      <td>6.8</td>\n",
              "      <td>16.4</td>\n",
              "      <td>25.8</td>\n",
              "      <td>62.2</td>\n",
              "      <td>96.2</td>\n",
              "      <td>0.0</td>\n",
              "      <td>3.2</td>\n",
              "      <td>No</td>\n",
              "    </tr>\n",
              "    <tr>\n",
              "      <th>1</th>\n",
              "      <td>Adilabad</td>\n",
              "      <td>Bheempoor</td>\n",
              "      <td>2020-01-02</td>\n",
              "      <td>0.0</td>\n",
              "      <td>17.1</td>\n",
              "      <td>27.7</td>\n",
              "      <td>65.4</td>\n",
              "      <td>94.8</td>\n",
              "      <td>0.0</td>\n",
              "      <td>2.1</td>\n",
              "      <td>No</td>\n",
              "    </tr>\n",
              "    <tr>\n",
              "      <th>2</th>\n",
              "      <td>Adilabad</td>\n",
              "      <td>Bheempoor</td>\n",
              "      <td>2020-01-03</td>\n",
              "      <td>25.8</td>\n",
              "      <td>16.9</td>\n",
              "      <td>22.2</td>\n",
              "      <td>85.6</td>\n",
              "      <td>96.9</td>\n",
              "      <td>0.0</td>\n",
              "      <td>1.1</td>\n",
              "      <td>Yes</td>\n",
              "    </tr>\n",
              "    <tr>\n",
              "      <th>3</th>\n",
              "      <td>Adilabad</td>\n",
              "      <td>Bheempoor</td>\n",
              "      <td>2020-01-04</td>\n",
              "      <td>0.0</td>\n",
              "      <td>15.1</td>\n",
              "      <td>23.0</td>\n",
              "      <td>79.5</td>\n",
              "      <td>98.3</td>\n",
              "      <td>0.0</td>\n",
              "      <td>1.4</td>\n",
              "      <td>No</td>\n",
              "    </tr>\n",
              "    <tr>\n",
              "      <th>4</th>\n",
              "      <td>Adilabad</td>\n",
              "      <td>Bheempoor</td>\n",
              "      <td>2020-01-05</td>\n",
              "      <td>0.0</td>\n",
              "      <td>13.2</td>\n",
              "      <td>25.7</td>\n",
              "      <td>63.5</td>\n",
              "      <td>98.2</td>\n",
              "      <td>0.0</td>\n",
              "      <td>0.7</td>\n",
              "      <td>No</td>\n",
              "    </tr>\n",
              "  </tbody>\n",
              "</table>\n",
              "</div>"
            ],
            "text/plain": [
              "   District     Mandal  ... Max Wind Speed (Kmph)  RainTomorrow\n",
              "0  Adilabad  Bheempoor  ...                   3.2            No\n",
              "1  Adilabad  Bheempoor  ...                   2.1            No\n",
              "2  Adilabad  Bheempoor  ...                   1.1           Yes\n",
              "3  Adilabad  Bheempoor  ...                   1.4            No\n",
              "4  Adilabad  Bheempoor  ...                   0.7            No\n",
              "\n",
              "[5 rows x 11 columns]"
            ]
          },
          "metadata": {},
          "execution_count": 147
        }
      ]
    },
    {
      "cell_type": "code",
      "metadata": {
        "colab": {
          "base_uri": "https://localhost:8080/",
          "height": 1000
        },
        "id": "O4QwxdQjD2mZ",
        "outputId": "786d1867-457a-44ad-8dcd-2afc8484caea"
      },
      "source": [
        "corrmat = data.corr()\n",
        "cmap = sns.diverging_palette(260,-10,s=50, l=75, n=6, as_cmap=True)\n",
        "plt.subplots(figsize=(18,18))\n",
        "sns.heatmap(corrmat,cmap= cmap,annot=True, square=True)"
      ],
      "execution_count": 148,
      "outputs": [
        {
          "output_type": "execute_result",
          "data": {
            "text/plain": [
              "<matplotlib.axes._subplots.AxesSubplot at 0x7f6f07e0a750>"
            ]
          },
          "metadata": {},
          "execution_count": 148
        },
        {
          "output_type": "display_data",
          "data": {
            "image/png": "[encoded data removed]",
            "text/plain": [
              "<Figure size 1296x1296 with 2 Axes>"
            ]
          },
          "metadata": {
            "needs_background": "light"
          }
        }
      ]
    },
    {
      "cell_type": "code",
      "metadata": {
        "colab": {
          "base_uri": "https://localhost:8080/",
          "height": 306
        },
        "id": "PVrPnkklFA6o",
        "outputId": "4ebc4056-83d8-4fa9-d0d0-1e4030c8612f"
      },
      "source": [
        "data['Date']= pd.to_datetime(data[\"Date\"])\n",
        "#Creating a collumn of year\n",
        "data['year'] = data.Date.dt.year\n",
        "\n",
        "# function to encode datetime into cyclic parameters. \n",
        "#As I am planning to use this data in a neural network I prefer the months and days in a cyclic continuous feature. \n",
        "\n",
        "def encode(data, col, max_val):\n",
        "    data[col + '_sin'] = np.sin(2 * np.pi * data[col]/max_val)\n",
        "    data[col + '_cos'] = np.cos(2 * np.pi * data[col]/max_val)\n",
        "    return data\n",
        "\n",
        "data['month'] = data.Date.dt.month\n",
        "data = encode(data, 'month', 12)\n",
        "\n",
        "data['day'] = data.Date.dt.day\n",
        "data = encode(data, 'day', 31)\n",
        "\n",
        "data.head()"
      ],
      "execution_count": 149,
      "outputs": [
        {
          "output_type": "execute_result",
          "data": {
            "text/html": [
              "<div>\n",
              "<style scoped>\n",
              "    .dataframe tbody tr th:only-of-type {\n",
              "        vertical-align: middle;\n",
              "    }\n",
              "\n",
              "    .dataframe tbody tr th {\n",
              "        vertical-align: top;\n",
              "    }\n",
              "\n",
              "    .dataframe thead th {\n",
              "        text-align: right;\n",
              "    }\n",
              "</style>\n",
              "<table border=\"1\" class=\"dataframe\">\n",
              "  <thead>\n",
              "    <tr style=\"text-align: right;\">\n",
              "      <th></th>\n",
              "      <th>District</th>\n",
              "      <th>Mandal</th>\n",
              "      <th>Date</th>\n",
              "      <th>Rain (mm)</th>\n",
              "      <th>Min Temp (°C)</th>\n",
              "      <th>Max Temp (°C)</th>\n",
              "      <th>Min Humidity (%)</th>\n",
              "      <th>Max Humidity (%)</th>\n",
              "      <th>Min Wind Speed (Kmph)</th>\n",
              "      <th>Max Wind Speed (Kmph)</th>\n",
              "      <th>RainTomorrow</th>\n",
              "      <th>year</th>\n",
              "      <th>month</th>\n",
              "      <th>month_sin</th>\n",
              "      <th>month_cos</th>\n",
              "      <th>day</th>\n",
              "      <th>day_sin</th>\n",
              "      <th>day_cos</th>\n",
              "    </tr>\n",
              "  </thead>\n",
              "  <tbody>\n",
              "    <tr>\n",
              "      <th>0</th>\n",
              "      <td>Adilabad</td>\n",
              "      <td>Bheempoor</td>\n",
              "      <td>2020-01-01</td>\n",
              "      <td>6.8</td>\n",
              "      <td>16.4</td>\n",
              "      <td>25.8</td>\n",
              "      <td>62.2</td>\n",
              "      <td>96.2</td>\n",
              "      <td>0.0</td>\n",
              "      <td>3.2</td>\n",
              "      <td>No</td>\n",
              "      <td>2020</td>\n",
              "      <td>1</td>\n",
              "      <td>0.5</td>\n",
              "      <td>0.866025</td>\n",
              "      <td>1</td>\n",
              "      <td>0.201299</td>\n",
              "      <td>0.979530</td>\n",
              "    </tr>\n",
              "    <tr>\n",
              "      <th>1</th>\n",
              "      <td>Adilabad</td>\n",
              "      <td>Bheempoor</td>\n",
              "      <td>2020-01-02</td>\n",
              "      <td>0.0</td>\n",
              "      <td>17.1</td>\n",
              "      <td>27.7</td>\n",
              "      <td>65.4</td>\n",
              "      <td>94.8</td>\n",
              "      <td>0.0</td>\n",
              "      <td>2.1</td>\n",
              "      <td>No</td>\n",
              "      <td>2020</td>\n",
              "      <td>1</td>\n",
              "      <td>0.5</td>\n",
              "      <td>0.866025</td>\n",
              "      <td>2</td>\n",
              "      <td>0.394356</td>\n",
              "      <td>0.918958</td>\n",
              "    </tr>\n",
              "    <tr>\n",
              "      <th>2</th>\n",
              "      <td>Adilabad</td>\n",
              "      <td>Bheempoor</td>\n",
              "      <td>2020-01-03</td>\n",
              "      <td>25.8</td>\n",
              "      <td>16.9</td>\n",
              "      <td>22.2</td>\n",
              "      <td>85.6</td>\n",
              "      <td>96.9</td>\n",
              "      <td>0.0</td>\n",
              "      <td>1.1</td>\n",
              "      <td>Yes</td>\n",
              "      <td>2020</td>\n",
              "      <td>1</td>\n",
              "      <td>0.5</td>\n",
              "      <td>0.866025</td>\n",
              "      <td>3</td>\n",
              "      <td>0.571268</td>\n",
              "      <td>0.820763</td>\n",
              "    </tr>\n",
              "    <tr>\n",
              "      <th>3</th>\n",
              "      <td>Adilabad</td>\n",
              "      <td>Bheempoor</td>\n",
              "      <td>2020-01-04</td>\n",
              "      <td>0.0</td>\n",
              "      <td>15.1</td>\n",
              "      <td>23.0</td>\n",
              "      <td>79.5</td>\n",
              "      <td>98.3</td>\n",
              "      <td>0.0</td>\n",
              "      <td>1.4</td>\n",
              "      <td>No</td>\n",
              "      <td>2020</td>\n",
              "      <td>1</td>\n",
              "      <td>0.5</td>\n",
              "      <td>0.866025</td>\n",
              "      <td>4</td>\n",
              "      <td>0.724793</td>\n",
              "      <td>0.688967</td>\n",
              "    </tr>\n",
              "    <tr>\n",
              "      <th>4</th>\n",
              "      <td>Adilabad</td>\n",
              "      <td>Bheempoor</td>\n",
              "      <td>2020-01-05</td>\n",
              "      <td>0.0</td>\n",
              "      <td>13.2</td>\n",
              "      <td>25.7</td>\n",
              "      <td>63.5</td>\n",
              "      <td>98.2</td>\n",
              "      <td>0.0</td>\n",
              "      <td>0.7</td>\n",
              "      <td>No</td>\n",
              "      <td>2020</td>\n",
              "      <td>1</td>\n",
              "      <td>0.5</td>\n",
              "      <td>0.866025</td>\n",
              "      <td>5</td>\n",
              "      <td>0.848644</td>\n",
              "      <td>0.528964</td>\n",
              "    </tr>\n",
              "  </tbody>\n",
              "</table>\n",
              "</div>"
            ],
            "text/plain": [
              "   District     Mandal       Date  ...  day   day_sin   day_cos\n",
              "0  Adilabad  Bheempoor 2020-01-01  ...    1  0.201299  0.979530\n",
              "1  Adilabad  Bheempoor 2020-01-02  ...    2  0.394356  0.918958\n",
              "2  Adilabad  Bheempoor 2020-01-03  ...    3  0.571268  0.820763\n",
              "3  Adilabad  Bheempoor 2020-01-04  ...    4  0.724793  0.688967\n",
              "4  Adilabad  Bheempoor 2020-01-05  ...    5  0.848644  0.528964\n",
              "\n",
              "[5 rows x 18 columns]"
            ]
          },
          "metadata": {},
          "execution_count": 149
        }
      ]
    },
    {
      "cell_type": "code",
      "metadata": {
        "colab": {
          "base_uri": "https://localhost:8080/",
          "height": 312
        },
        "id": "7V9WyuQLFeLj",
        "outputId": "8bebb70e-3226-42ce-b2dd-90543acde5be"
      },
      "source": [
        "section = data[:360] \n",
        "tm = section[\"day\"].plot(color=\"#C2C4E2\")\n",
        "tm.set_title(\"Distribution Of Days Over Year\")\n",
        "tm.set_ylabel(\"Days In month\")\n",
        "tm.set_xlabel(\"Days In Year\")\n"
      ],
      "execution_count": 150,
      "outputs": [
        {
          "output_type": "execute_result",
          "data": {
            "text/plain": [
              "Text(0.5, 0, 'Days In Year')"
            ]
          },
          "metadata": {},
          "execution_count": 150
        },
        {
          "output_type": "display_data",
          "data": {
            "image/png": "[encoded data removed]",
            "text/plain": [
              "<Figure size 432x288 with 1 Axes>"
            ]
          },
          "metadata": {
            "needs_background": "light"
          }
        }
      ]
    },
    {
      "cell_type": "code",
      "metadata": {
        "colab": {
          "base_uri": "https://localhost:8080/",
          "height": 312
        },
        "id": "hSuyqcZNFtTw",
        "outputId": "2131a2a5-520b-40df-9c52-441377654606"
      },
      "source": [
        "cyclic_month = sns.scatterplot(x=\"month_sin\",y=\"month_cos\",data=data, color=\"#C2C4E2\")\n",
        "cyclic_month.set_title(\"Cyclic Encoding of Month\")\n",
        "cyclic_month.set_ylabel(\"Cosine Encoded Months\")\n",
        "cyclic_month.set_xlabel(\"Sine Encoded Months\")"
      ],
      "execution_count": 151,
      "outputs": [
        {
          "output_type": "execute_result",
          "data": {
            "text/plain": [
              "Text(0.5, 0, 'Sine Encoded Months')"
            ]
          },
          "metadata": {},
          "execution_count": 151
        },
        {
          "output_type": "display_data",
          "data": {
            "image/png": "[encoded data removed]",
            "text/plain": [
              "<Figure size 432x288 with 1 Axes>"
            ]
          },
          "metadata": {
            "needs_background": "light"
          }
        }
      ]
    },
    {
      "cell_type": "code",
      "metadata": {
        "colab": {
          "base_uri": "https://localhost:8080/",
          "height": 312
        },
        "id": "Gwhb2VNfGBVw",
        "outputId": "5cd7e5a9-7697-4e99-cb8b-a9ebebdf36d7"
      },
      "source": [
        "cyclic_day = sns.scatterplot(x='day_sin',y='day_cos',data=data, color=\"#C2C4E2\")\n",
        "cyclic_day.set_title(\"Cyclic Encoding of Day\")\n",
        "cyclic_day.set_ylabel(\"Cosine Encoded Day\")\n",
        "cyclic_day.set_xlabel(\"Sine Encoded Day\")"
      ],
      "execution_count": 152,
      "outputs": [
        {
          "output_type": "execute_result",
          "data": {
            "text/plain": [
              "Text(0.5, 0, 'Sine Encoded Day')"
            ]
          },
          "metadata": {},
          "execution_count": 152
        },
        {
          "output_type": "display_data",
          "data": {
            "image/png": "[encoded data removed]",
            "text/plain": [
              "<Figure size 432x288 with 1 Axes>"
            ]
          },
          "metadata": {
            "needs_background": "light"
          }
        }
      ]
    },
    {
      "cell_type": "code",
      "metadata": {
        "colab": {
          "base_uri": "https://localhost:8080/"
        },
        "id": "74MLvq7nGC9V",
        "outputId": "607e29c0-b6c1-4bbf-d847-4c28c3cae2d5"
      },
      "source": [
        "s = (data.dtypes == \"object\")\n",
        "object_cols = list(s[s].index)\n",
        "\n",
        "print(\"Categorical variables:\")\n",
        "print(object_cols)"
      ],
      "execution_count": 153,
      "outputs": [
        {
          "output_type": "stream",
          "name": "stdout",
          "text": [
            "Categorical variables:\n",
            "['District', 'Mandal', 'RainTomorrow']\n"
          ]
        }
      ]
    },
    {
      "cell_type": "code",
      "metadata": {
        "colab": {
          "base_uri": "https://localhost:8080/"
        },
        "id": "qg7bWCWiGJ4z",
        "outputId": "36a66104-bb65-4add-d355-f1c24a37d131"
      },
      "source": [
        "# Filling missing values with mode of the column in value\n",
        "\n",
        "for i in object_cols:\n",
        "    data[i].fillna(data[i].mode()[0], inplace=True)\n",
        "for i in object_cols:\n",
        "    print(i, data[i].isnull().sum())"
      ],
      "execution_count": 154,
      "outputs": [
        {
          "output_type": "stream",
          "name": "stdout",
          "text": [
            "District 0\n",
            "Mandal 0\n",
            "RainTomorrow 0\n"
          ]
        }
      ]
    },
    {
      "cell_type": "code",
      "metadata": {
        "colab": {
          "base_uri": "https://localhost:8080/"
        },
        "id": "28azOOrUGSJC",
        "outputId": "c010da5a-680d-41d2-cbda-e989bb086121"
      },
      "source": [
        "t = (data.dtypes == \"float64\")\n",
        "num_cols = list(t[t].index)\n",
        "\n",
        "print(\"Neumeric variables:\")\n",
        "print(num_cols)"
      ],
      "execution_count": 155,
      "outputs": [
        {
          "output_type": "stream",
          "name": "stdout",
          "text": [
            "Neumeric variables:\n",
            "['Rain (mm)', 'Min Temp (°C)', 'Max Temp (°C)', 'Min Humidity (%)', 'Max Humidity (%)', 'Min Wind Speed (Kmph)', 'Max Wind Speed (Kmph)', 'month_sin', 'month_cos', 'day_sin', 'day_cos']\n"
          ]
        }
      ]
    },
    {
      "cell_type": "code",
      "metadata": {
        "colab": {
          "base_uri": "https://localhost:8080/"
        },
        "id": "Fr6b4SfUGXXl",
        "outputId": "61f8e69a-6551-4217-9d42-2e507549e684"
      },
      "source": [
        "for i in num_cols:\n",
        "    print(i, data[i].isnull().sum())\n",
        "for i in num_cols:\n",
        "    data[i].fillna(data[i].median(), inplace=True)\n",
        "    \n",
        "data.info()"
      ],
      "execution_count": 156,
      "outputs": [
        {
          "output_type": "stream",
          "name": "stdout",
          "text": [
            "Rain (mm) 0\n",
            "Min Temp (°C) 0\n",
            "Max Temp (°C) 0\n",
            "Min Humidity (%) 0\n",
            "Max Humidity (%) 0\n",
            "Min Wind Speed (Kmph) 50404\n",
            "Max Wind Speed (Kmph) 50756\n",
            "month_sin 0\n",
            "month_cos 0\n",
            "day_sin 0\n",
            "day_cos 0\n",
            "<class 'pandas.core.frame.DataFrame'>\n",
            "RangeIndex: 106610 entries, 0 to 106609\n",
            "Data columns (total 18 columns):\n",
            " #   Column                 Non-Null Count   Dtype         \n",
            "---  ------                 --------------   -----         \n",
            " 0   District               106610 non-null  object        \n",
            " 1   Mandal                 106610 non-null  object        \n",
            " 2   Date                   106610 non-null  datetime64[ns]\n",
            " 3   Rain (mm)              106610 non-null  float64       \n",
            " 4   Min Temp (°C)          106610 non-null  float64       \n",
            " 5   Max Temp (°C)          106610 non-null  float64       \n",
            " 6   Min Humidity (%)       106610 non-null  float64       \n",
            " 7   Max Humidity (%)       106610 non-null  float64       \n",
            " 8   Min Wind Speed (Kmph)  106610 non-null  float64       \n",
            " 9   Max Wind Speed (Kmph)  106610 non-null  float64       \n",
            " 10  RainTomorrow           106610 non-null  object        \n",
            " 11  year                   106610 non-null  int64         \n",
            " 12  month                  106610 non-null  int64         \n",
            " 13  month_sin              106610 non-null  float64       \n",
            " 14  month_cos              106610 non-null  float64       \n",
            " 15  day                    106610 non-null  int64         \n",
            " 16  day_sin                106610 non-null  float64       \n",
            " 17  day_cos                106610 non-null  float64       \n",
            "dtypes: datetime64[ns](1), float64(11), int64(3), object(3)\n",
            "memory usage: 14.6+ MB\n"
          ]
        }
      ]
    },
    {
      "cell_type": "markdown",
      "metadata": {
        "id": "j-L0M7YQG378"
      },
      "source": [
        "##DATA Pre - Processing"
      ]
    },
    {
      "cell_type": "code",
      "metadata": {
        "colab": {
          "base_uri": "https://localhost:8080/"
        },
        "id": "7tUbIq-OG7WY",
        "outputId": "7dfe4005-b6bb-423e-e33f-d65e8fef482f"
      },
      "source": [
        "label_encoder = LabelEncoder()\n",
        "for i in object_cols:\n",
        "    data[i] = label_encoder.fit_transform(data[i])\n",
        "    \n",
        "data.info()"
      ],
      "execution_count": 157,
      "outputs": [
        {
          "output_type": "stream",
          "name": "stdout",
          "text": [
            "<class 'pandas.core.frame.DataFrame'>\n",
            "RangeIndex: 106610 entries, 0 to 106609\n",
            "Data columns (total 18 columns):\n",
            " #   Column                 Non-Null Count   Dtype         \n",
            "---  ------                 --------------   -----         \n",
            " 0   District               106610 non-null  int64         \n",
            " 1   Mandal                 106610 non-null  int64         \n",
            " 2   Date                   106610 non-null  datetime64[ns]\n",
            " 3   Rain (mm)              106610 non-null  float64       \n",
            " 4   Min Temp (°C)          106610 non-null  float64       \n",
            " 5   Max Temp (°C)          106610 non-null  float64       \n",
            " 6   Min Humidity (%)       106610 non-null  float64       \n",
            " 7   Max Humidity (%)       106610 non-null  float64       \n",
            " 8   Min Wind Speed (Kmph)  106610 non-null  float64       \n",
            " 9   Max Wind Speed (Kmph)  106610 non-null  float64       \n",
            " 10  RainTomorrow           106610 non-null  int64         \n",
            " 11  year                   106610 non-null  int64         \n",
            " 12  month                  106610 non-null  int64         \n",
            " 13  month_sin              106610 non-null  float64       \n",
            " 14  month_cos              106610 non-null  float64       \n",
            " 15  day                    106610 non-null  int64         \n",
            " 16  day_sin                106610 non-null  float64       \n",
            " 17  day_cos                106610 non-null  float64       \n",
            "dtypes: datetime64[ns](1), float64(11), int64(6)\n",
            "memory usage: 14.6 MB\n"
          ]
        }
      ]
    },
    {
      "cell_type": "code",
      "metadata": {
        "colab": {
          "base_uri": "https://localhost:8080/"
        },
        "id": "QmlRlCMRHAcs",
        "outputId": "545ff3f7-5b74-4677-a778-b615c32b9714"
      },
      "source": [
        "features = data.drop(['RainTomorrow', 'Date','day', 'month'], axis=1) # dropping target and extra columns\n",
        "\n",
        "target = data['RainTomorrow']\n",
        "\n",
        "#Set up a standard scaler for the features\n",
        "col_names = list(features.columns)\n",
        "s_scaler = preprocessing.StandardScaler()\n",
        "features = s_scaler.fit_transform(features)\n",
        "features = pd.DataFrame(features, columns=col_names) \n",
        "\n",
        "features.describe().T\n",
        "print(features)"
      ],
      "execution_count": 158,
      "outputs": [
        {
          "output_type": "stream",
          "name": "stdout",
          "text": [
            "        District    Mandal  Rain (mm)  ...  month_cos   day_sin   day_cos\n",
            "0      -1.864829 -1.381068   3.886155  ...   1.144993  0.275038  1.442573\n",
            "1      -1.864829 -1.381068  -0.106115  ...   1.144993  0.544717  1.355755\n",
            "2      -1.864829 -1.381068  15.041027  ...   1.144993  0.791843  1.215013\n",
            "3      -1.864829 -1.381068  -0.106115  ...   1.144993  1.006300  1.026109\n",
            "4      -1.864829 -1.381068  -0.106115  ...   1.144993  1.179306  0.796778\n",
            "...          ...       ...        ...  ...        ...       ...       ...\n",
            "106605  0.260433 -0.171120  -0.106115  ...  -1.262292 -0.804150  1.215013\n",
            "106606  0.260433 -0.171120  -0.106115  ...  -1.262292 -0.557023  1.355755\n",
            "106607  0.260433 -0.171120  -0.106115  ...  -1.262292 -0.287344  1.442573\n",
            "106608  0.260433 -0.171120  -0.106115  ...  -1.262292 -0.006153  1.471913\n",
            "106609 -1.864829 -1.381068   3.886155  ...   1.144993  0.275038  1.442573\n",
            "\n",
            "[106610 rows x 14 columns]\n"
          ]
        }
      ]
    },
    {
      "cell_type": "code",
      "metadata": {
        "colab": {
          "base_uri": "https://localhost:8080/",
          "height": 942
        },
        "id": "RIfEazRlKt5s",
        "outputId": "28e87229-d83b-46f7-9252-f112227742a6"
      },
      "source": [
        "colours = [\"#D0DBEE\", \"#C2C4E2\", \"#EED4E5\", \"#D1E6DC\", \"#BDE2E2\"]\n",
        "plt.figure(figsize=(20,10))\n",
        "sns.boxenplot(data = features,palette = colours)\n",
        "plt.xticks(rotation=90)\n",
        "plt.show()\n",
        "print(features)"
      ],
      "execution_count": 159,
      "outputs": [
        {
          "output_type": "display_data",
          "data": {
            "image/png": "[encoded data removed]",
            "text/plain": [
              "<Figure size 1440x720 with 1 Axes>"
            ]
          },
          "metadata": {
            "needs_background": "light"
          }
        },
        {
          "output_type": "stream",
          "name": "stdout",
          "text": [
            "        District    Mandal  Rain (mm)  ...  month_cos   day_sin   day_cos\n",
            "0      -1.864829 -1.381068   3.886155  ...   1.144993  0.275038  1.442573\n",
            "1      -1.864829 -1.381068  -0.106115  ...   1.144993  0.544717  1.355755\n",
            "2      -1.864829 -1.381068  15.041027  ...   1.144993  0.791843  1.215013\n",
            "3      -1.864829 -1.381068  -0.106115  ...   1.144993  1.006300  1.026109\n",
            "4      -1.864829 -1.381068  -0.106115  ...   1.144993  1.179306  0.796778\n",
            "...          ...       ...        ...  ...        ...       ...       ...\n",
            "106605  0.260433 -0.171120  -0.106115  ...  -1.262292 -0.804150  1.215013\n",
            "106606  0.260433 -0.171120  -0.106115  ...  -1.262292 -0.557023  1.355755\n",
            "106607  0.260433 -0.171120  -0.106115  ...  -1.262292 -0.287344  1.442573\n",
            "106608  0.260433 -0.171120  -0.106115  ...  -1.262292 -0.006153  1.471913\n",
            "106609 -1.864829 -1.381068   3.886155  ...   1.144993  0.275038  1.442573\n",
            "\n",
            "[106610 rows x 14 columns]\n"
          ]
        }
      ]
    },
    {
      "cell_type": "code",
      "metadata": {
        "colab": {
          "base_uri": "https://localhost:8080/"
        },
        "id": "NAUbi1BJK5IQ",
        "outputId": "b002f848-f2c1-4f49-e610-2f9426764f6d"
      },
      "source": [
        "#full data for \n",
        "features[\"RainTomorrow\"] = target\n",
        "print(features)\n",
        "#Dropping with outlier\n",
        "\n",
        "#features = features[(features[\"Min Temp (°C)\"]<27)&(features[\"Min Temp (°C)\"]>10)]\n",
        "#features = features[(features[\"Max Temp (°C)\"]<45)&(features[\"Max Temp (°C)\"]>30)]\n",
        "#features = features[(features[\"Rain (mm)\"]<4.5)]\n",
        "#features = features[(features[\"Min Wind Speed (Kmph)\"]<2)]\n",
        "#features = features[(features[\"Max Wind Speed (Kmph)\"]>1.0)]\n",
        "#features = features[(features[\"Min Humidity (%)\"]>10)]\n",
        "#features = features[(features[\"Max Humidity (%)\"]<90)]\n",
        "\n",
        "features = features[(features[\"Min Temp (°C)\"]<2.3)&(features[\"Min Temp (°C)\"]>-2.3)]\n",
        "features = features[(features[\"Max Temp (°C)\"]<2.3)&(features[\"Max Temp (°C)\"]>-2)]\n",
        "features = features[(features[\"Rain (mm)\"]<4.5)]\n",
        "features = features[(features[\"Min Wind Speed (Kmph)\"]<4)]\n",
        "features = features[(features[\"Max Wind Speed (Kmph)\"]<2.5)]\n",
        "features = features[(features[\"Min Humidity (%)\"]>-3)]\n",
        "features = features[(features[\"Max Humidity (%)\"]>-2.2)]\n",
        "\n",
        "\n",
        "\n",
        "features.shape"
      ],
      "execution_count": 160,
      "outputs": [
        {
          "output_type": "stream",
          "name": "stdout",
          "text": [
            "        District    Mandal  Rain (mm)  ...   day_sin   day_cos  RainTomorrow\n",
            "0      -1.864829 -1.381068   3.886155  ...  0.275038  1.442573             0\n",
            "1      -1.864829 -1.381068  -0.106115  ...  0.544717  1.355755             0\n",
            "2      -1.864829 -1.381068  15.041027  ...  0.791843  1.215013             1\n",
            "3      -1.864829 -1.381068  -0.106115  ...  1.006300  1.026109             0\n",
            "4      -1.864829 -1.381068  -0.106115  ...  1.179306  0.796778             0\n",
            "...          ...       ...        ...  ...       ...       ...           ...\n",
            "106605  0.260433 -0.171120  -0.106115  ... -0.804150  1.215013             0\n",
            "106606  0.260433 -0.171120  -0.106115  ... -0.557023  1.355755             0\n",
            "106607  0.260433 -0.171120  -0.106115  ... -0.287344  1.442573             0\n",
            "106608  0.260433 -0.171120  -0.106115  ... -0.006153  1.471913             0\n",
            "106609 -1.864829 -1.381068   3.886155  ...  0.275038  1.442573             1\n",
            "\n",
            "[106610 rows x 15 columns]\n"
          ]
        },
        {
          "output_type": "execute_result",
          "data": {
            "text/plain": [
              "(95289, 15)"
            ]
          },
          "metadata": {},
          "execution_count": 160
        }
      ]
    },
    {
      "cell_type": "markdown",
      "metadata": {
        "id": "FIO9QNgcOckP"
      },
      "source": [
        "## Model Building"
      ]
    },
    {
      "cell_type": "code",
      "metadata": {
        "colab": {
          "base_uri": "https://localhost:8080/"
        },
        "id": "eCJhxcmuOg_o",
        "outputId": "5cb5a8e6-fcda-4b96-9950-1c12ab9d0f9a"
      },
      "source": [
        "X = features.drop([\"RainTomorrow\"], axis=1)\n",
        "y = features[\"RainTomorrow\"]\n",
        "\n",
        "# Splitting test and training sets\n",
        "X_train, X_test, y_train, y_test = train_test_split(X, y, test_size = 0.2, random_state = 42)\n",
        "\n",
        "X.shape"
      ],
      "execution_count": 161,
      "outputs": [
        {
          "output_type": "execute_result",
          "data": {
            "text/plain": [
              "(95289, 14)"
            ]
          },
          "metadata": {},
          "execution_count": 161
        }
      ]
    },
    {
      "cell_type": "code",
      "metadata": {
        "colab": {
          "base_uri": "https://localhost:8080/"
        },
        "id": "2ssaRmw4OoTt",
        "outputId": "2a9312b8-6caa-4133-8b1a-05fcf29fe396"
      },
      "source": [
        "early_stopping = callbacks.EarlyStopping(\n",
        "    min_delta=0.001, # minimium amount of change to count as an improvement\n",
        "    patience=5, # how many epochs to wait before stopping\n",
        "    restore_best_weights=True,\n",
        ")\n",
        "\n",
        "# Initialising the NN\n",
        "model = Sequential()\n",
        "\n",
        "# layers\n",
        "\n",
        "model.add(Dense(units = 32, kernel_initializer = 'uniform', activation = 'relu', input_dim = 14))\n",
        "model.add(Dense(units = 32, kernel_initializer = 'uniform', activation = 'relu'))\n",
        "model.add(Dense(units = 16, kernel_initializer = 'uniform', activation = 'relu'))\n",
        "model.add(Dropout(0.25))\n",
        "model.add(Dense(units = 8, kernel_initializer = 'uniform', activation = 'relu'))\n",
        "model.add(Dropout(0.5))\n",
        "model.add(Dense(units = 1, kernel_initializer = 'uniform', activation = 'sigmoid'))\n",
        "\n",
        "# Compiling the ANN\n",
        "opt = Adam(learning_rate=0.0000009)\n",
        "model.compile(optimizer = opt, loss = 'binary_crossentropy', metrics = ['accuracy'])\n",
        "\n",
        "# Train the ANN\n",
        "history = model.fit(X_train, y_train, batch_size = 16, epochs = 10, callbacks=[early_stopping], validation_split=0.2)"
      ],
      "execution_count": 162,
      "outputs": [
        {
          "output_type": "stream",
          "name": "stdout",
          "text": [
            "Epoch 1/10\n",
            "3812/3812 [==============================] - 9s 2ms/step - loss: 0.6923 - accuracy: 0.9765 - val_loss: 0.6913 - val_accuracy: 0.9779\n",
            "Epoch 2/10\n",
            "3812/3812 [==============================] - 9s 2ms/step - loss: 0.6904 - accuracy: 0.9768 - val_loss: 0.6894 - val_accuracy: 0.9779\n",
            "Epoch 3/10\n",
            "3812/3812 [==============================] - 9s 2ms/step - loss: 0.6884 - accuracy: 0.9768 - val_loss: 0.6874 - val_accuracy: 0.9779\n",
            "Epoch 4/10\n",
            "3812/3812 [==============================] - 9s 2ms/step - loss: 0.6863 - accuracy: 0.9768 - val_loss: 0.6852 - val_accuracy: 0.9779\n",
            "Epoch 5/10\n",
            "3812/3812 [==============================] - 9s 2ms/step - loss: 0.6840 - accuracy: 0.9768 - val_loss: 0.6828 - val_accuracy: 0.9779\n",
            "Epoch 6/10\n",
            "3812/3812 [==============================] - 8s 2ms/step - loss: 0.6816 - accuracy: 0.9768 - val_loss: 0.6802 - val_accuracy: 0.9779\n",
            "Epoch 7/10\n",
            "3812/3812 [==============================] - 9s 2ms/step - loss: 0.6787 - accuracy: 0.9768 - val_loss: 0.6772 - val_accuracy: 0.9779\n",
            "Epoch 8/10\n",
            "3812/3812 [==============================] - 9s 2ms/step - loss: 0.6755 - accuracy: 0.9768 - val_loss: 0.6737 - val_accuracy: 0.9779\n",
            "Epoch 9/10\n",
            "3812/3812 [==============================] - 8s 2ms/step - loss: 0.6717 - accuracy: 0.9768 - val_loss: 0.6696 - val_accuracy: 0.9779\n",
            "Epoch 10/10\n",
            "3812/3812 [==============================] - 8s 2ms/step - loss: 0.6673 - accuracy: 0.9768 - val_loss: 0.6647 - val_accuracy: 0.9779\n"
          ]
        }
      ]
    },
    {
      "cell_type": "code",
      "metadata": {
        "colab": {
          "base_uri": "https://localhost:8080/",
          "height": 295
        },
        "id": "XPCvU_q7P_Q7",
        "outputId": "a7b40021-8145-4f93-ee07-59979d8da228"
      },
      "source": [
        "history_df = pd.DataFrame(history.history)\n",
        "\n",
        "plt.plot(history_df.loc[:, ['loss']], \"#BDE2E2\", label='Training loss')\n",
        "plt.plot(history_df.loc[:, ['val_loss']],\"#C2C4E2\", label='Validation loss')\n",
        "plt.title('Training and Validation loss')\n",
        "plt.xlabel('Epochs')\n",
        "plt.ylabel('Loss')\n",
        "plt.legend(loc=\"best\")\n",
        "\n",
        "plt.show()"
      ],
      "execution_count": 163,
      "outputs": [
        {
          "output_type": "display_data",
          "data": {
            "image/png": "[encoded data removed]",
            "text/plain": [
              "<Figure size 432x288 with 1 Axes>"
            ]
          },
          "metadata": {
            "needs_background": "light"
          }
        }
      ]
    },
    {
      "cell_type": "code",
      "metadata": {
        "id": "05bUJr2jR9JJ"
      },
      "source": [
        "y_pred = model.predict(X_test)\n",
        "y_pred = (y_pred > 0.5)"
      ],
      "execution_count": 164,
      "outputs": []
    },
    {
      "cell_type": "code",
      "metadata": {
        "colab": {
          "base_uri": "https://localhost:8080/",
          "height": 500
        },
        "id": "k78R0GHLSB8C",
        "outputId": "41370e0d-9376-4dd8-9426-d3a924ff8f5b"
      },
      "source": [
        "cmap1 = sns.diverging_palette(260,-10,s=50, l=75, n=5, as_cmap=True)\n",
        "plt.subplots(figsize=(12,8))\n",
        "cf_matrix = confusion_matrix(y_test, y_pred)\n",
        "sns.heatmap(cf_matrix/np.sum(cf_matrix), cmap = cmap1, annot = True, annot_kws = {'size':15})"
      ],
      "execution_count": 165,
      "outputs": [
        {
          "output_type": "execute_result",
          "data": {
            "text/plain": [
              "<matplotlib.axes._subplots.AxesSubplot at 0x7f6f064c10d0>"
            ]
          },
          "metadata": {},
          "execution_count": 165
        },
        {
          "output_type": "display_data",
          "data": {
            "image/png": "[encoded data removed]",
            "text/plain": [
              "<Figure size 864x576 with 2 Axes>"
            ]
          },
          "metadata": {
            "needs_background": "light"
          }
        }
      ]
    },
    {
      "cell_type": "code",
      "metadata": {
        "colab": {
          "base_uri": "https://localhost:8080/"
        },
        "id": "E83EKmEmSKk_",
        "outputId": "4f917057-6b14-49fd-de56-ea6a0c4e28c0"
      },
      "source": [
        "print(classification_report(y_test, y_pred))"
      ],
      "execution_count": 166,
      "outputs": [
        {
          "output_type": "stream",
          "name": "stdout",
          "text": [
            "              precision    recall  f1-score   support\n",
            "\n",
            "           0       0.98      1.00      0.99     18647\n",
            "           1       0.00      0.00      0.00       411\n",
            "\n",
            "    accuracy                           0.98     19058\n",
            "   macro avg       0.49      0.50      0.49     19058\n",
            "weighted avg       0.96      0.98      0.97     19058\n",
            "\n"
          ]
        },
        {
          "output_type": "stream",
          "name": "stderr",
          "text": [
            "/usr/local/lib/python3.7/dist-packages/sklearn/metrics/_classification.py:1272: UndefinedMetricWarning: Precision and F-score are ill-defined and being set to 0.0 in labels with no predicted samples. Use `zero_division` parameter to control this behavior.\n",
            "  _warn_prf(average, modifier, msg_start, len(result))\n"
          ]
        }
      ]
    }
  ]
}